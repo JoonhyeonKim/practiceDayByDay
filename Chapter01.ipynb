{
 "cells": [
  {
   "cell_type": "markdown",
   "id": "8b89c1b4",
   "metadata": {},
   "source": [
    "### Python Data Type\n",
    "\n",
    "1. int (v)\n",
    "2. float\n",
    "3. str (v)\n",
    "4. list (v)\n",
    "5. tuple\n",
    "6. set\n",
    "7. dict"
   ]
  },
  {
   "cell_type": "code",
   "execution_count": 16,
   "id": "108ab47d",
   "metadata": {},
   "outputs": [
    {
     "data": {
      "text/plain": [
       "13"
      ]
     },
     "execution_count": 16,
     "metadata": {},
     "output_type": "execute_result"
    }
   ],
   "source": [
    "# 1. int\n",
    "a = 10 ## dynamic type binding\n",
    "# lvalue(variable) = rvalue(data)\n",
    "b = a + 3\n",
    "b"
   ]
  },
  {
   "cell_type": "code",
   "execution_count": 28,
   "id": "c34866b5",
   "metadata": {},
   "outputs": [
    {
     "name": "stdout",
     "output_type": "stream",
     "text": [
      "Hello World\n",
      "['Hello', 'World']\n",
      "Hello World\n",
      "!!!\n",
      "'\n",
      "Hello World!!!\n",
      "!!!Hello World\n",
      "\\\n"
     ]
    }
   ],
   "source": [
    "# 3. str (=character sequence) https://chercher.tech/python-programming/python-special-characters\n",
    "s = 'Hello World'\n",
    "m = s.split()\n",
    "print(s)\n",
    "print(m)\n",
    "s2 = \"!!!\"\n",
    "print(s)\n",
    "print(s2)\n",
    "s3 = '\\'' # \\ escaper\n",
    "print(s3)\n",
    "print(s + s2) # string concatenation\n",
    "print(s2 + s)\n",
    "print(\"\\\\\")"
   ]
  },
  {
   "cell_type": "code",
   "execution_count": 4,
   "id": "586b9a97",
   "metadata": {},
   "outputs": [
    {
     "name": "stdout",
     "output_type": "stream",
     "text": [
      "True\n",
      "Element 0 and element 1 are different.\n",
      "Element 0 and element 2 are different.\n",
      "Element 0 and element 3 are different.\n",
      "Element 0 and element 4 are different.\n",
      "Element 1 and element 2 are different.\n",
      "Element 1 and element 3 are different.\n",
      "Element 1 and element 4 are different.\n",
      "Element 2 and element 3 are different.\n",
      "Element 2 and element 4 are different.\n",
      "Element 3 and element 4 are different.\n"
     ]
    }
   ],
   "source": [
    "# 4. List\n",
    "L = [1, 2, 3, 4, 5]\n",
    "L2 = [1, 3.14, 'a', [1,2]]\n",
    "\n",
    "for i in range(len(L)):\n",
    "    if L[i] == L[len(L)-i-1]:\n",
    "        print('True')\n",
    "    else:\n",
    "        pass\n",
    "\n",
    "my_list = [1, 2, 3, 4, 5]\n",
    "\n",
    "for i in range(len(my_list)):\n",
    "    for j in range(i+1, len(my_list)):\n",
    "        if my_list[i] == my_list[j]:\n",
    "            print(\"Element\", i, \"and element\", j, \"are the same.\")\n",
    "        else:\n",
    "            print(\"Element\", i, \"and element\", j, \"are different.\")    \n",
    "    \n",
    "#for el in L:\n",
    "#    for le in L2:\n",
    "#        if el == le:\n",
    "#            print(el)\n",
    "# 1) update element\n",
    "#    L[1] = 10\n",
    "#    print(L)\n",
    "# 2) insert element\n",
    "#    L.insert(2, 'a') # L.insert(index, value)\n",
    "#    L.append('b')\n",
    "# 3) remove element\n",
    "#    L.remove('a')"
   ]
  },
  {
   "cell_type": "markdown",
   "id": "aef4bf90",
   "metadata": {},
   "source": [
    "### Python, if, while, for\n",
    "\n",
    "- if : 조건문\n",
    "\n",
    "- while : 조건에 따른 반복문\n",
    "\n",
    "- for : 횟수에 따른 반복문"
   ]
  },
  {
   "cell_type": "code",
   "execution_count": 30,
   "id": "d9c396e0",
   "metadata": {},
   "outputs": [
    {
     "name": "stdout",
     "output_type": "stream",
     "text": [
      "2 X 1 = 2\n",
      "2 X 2 = 4\n",
      "2 X 3 = 6\n",
      "2 X 4 = 8\n",
      "2 X 5 = 10\n",
      "2 X 6 = 12\n",
      "2 X 7 = 14\n",
      "2 X 8 = 16\n",
      "2 X 9 = 18\n"
     ]
    }
   ],
   "source": [
    "# Q. 구구단 2단을 출력해봅시다.\n",
    "\n",
    "##number = 1\n",
    "##print('2 X 1 = 2')\n",
    "##f'2 X {number} = {2 * number}' # f-string(formatted string)\n",
    "...\n",
    "...\n",
    "...\n",
    "## print(f'2 X {number} = {2 * number}') where {number} is the one that is repeated, number = 1,2,3,4,...,9\n",
    "\n",
    "##while 1 <= number && number <= 9:\n",
    "##      number + 1\n",
    "    \n",
    "\n",
    "##for i in range(1,10):\n",
    "##    print(f'2 X {i} = {2 * i}')\n",
    "##    print('2 X '+str(i)+' = ', i*2)\n",
    "\n",
    "number = 0 ## when it is fixed\n",
    "\n",
    "##while (0 <= number < 9):\n",
    "##    number = number + 1\n",
    "##    print(f'2 X {number} = {2 * number}')\n",
    "  \n",
    "    \n",
    "while (0 <= number <= 9):\n",
    "    if (number == 0):\n",
    "        number = number + 1\n",
    "        pass ## continue if one wants to jump\n",
    "        \n",
    "    else:\n",
    "        print(f'2 X {number} = {2 * number}')\n",
    "        number = number + 1\n",
    "    \n"
   ]
  },
  {
   "cell_type": "code",
   "execution_count": 41,
   "id": "deae853f",
   "metadata": {},
   "outputs": [
    {
     "name": "stdout",
     "output_type": "stream",
     "text": [
      "2단 : \n",
      "2 X 1 = 2\n",
      "2 X 2 = 4\n",
      "2 X 3 = 6\n",
      "2 X 4 = 8\n",
      "2 X 5 = 10\n",
      "2 X 6 = 12\n",
      "2 X 7 = 14\n",
      "2 X 8 = 16\n",
      "2 X 9 = 18\n",
      "--------------\n",
      "3단 : \n",
      "3 X 1 = 3\n",
      "3 X 2 = 6\n",
      "3 X 3 = 9\n",
      "3 X 4 = 12\n",
      "3 X 5 = 15\n",
      "3 X 6 = 18\n",
      "3 X 7 = 21\n",
      "3 X 8 = 24\n",
      "3 X 9 = 27\n",
      "--------------\n",
      "4단 : \n",
      "4 X 1 = 4\n",
      "4 X 2 = 8\n",
      "4 X 3 = 12\n",
      "4 X 4 = 16\n",
      "4 X 5 = 20\n",
      "4 X 6 = 24\n",
      "4 X 7 = 28\n",
      "4 X 8 = 32\n",
      "4 X 9 = 36\n",
      "--------------\n",
      "5단 : \n",
      "5 X 1 = 5\n",
      "5 X 2 = 10\n",
      "5 X 3 = 15\n",
      "5 X 4 = 20\n",
      "5 X 5 = 25\n",
      "5 X 6 = 30\n",
      "5 X 7 = 35\n",
      "5 X 8 = 40\n",
      "5 X 9 = 45\n",
      "--------------\n",
      "6단 : \n",
      "6 X 1 = 6\n",
      "6 X 2 = 12\n",
      "6 X 3 = 18\n",
      "6 X 4 = 24\n",
      "6 X 5 = 30\n",
      "6 X 6 = 36\n",
      "6 X 7 = 42\n",
      "6 X 8 = 48\n",
      "6 X 9 = 54\n",
      "--------------\n",
      "7단 : \n",
      "7 X 1 = 7\n",
      "7 X 2 = 14\n",
      "7 X 3 = 21\n",
      "7 X 4 = 28\n",
      "7 X 5 = 35\n",
      "7 X 6 = 42\n",
      "7 X 7 = 49\n",
      "7 X 8 = 56\n",
      "7 X 9 = 63\n",
      "--------------\n",
      "8단 : \n",
      "8 X 1 = 8\n",
      "8 X 2 = 16\n",
      "8 X 3 = 24\n",
      "8 X 4 = 32\n",
      "8 X 5 = 40\n",
      "8 X 6 = 48\n",
      "8 X 7 = 56\n",
      "8 X 8 = 64\n",
      "8 X 9 = 72\n",
      "--------------\n",
      "9단 : \n",
      "9 X 1 = 9\n",
      "9 X 2 = 18\n",
      "9 X 3 = 27\n",
      "9 X 4 = 36\n",
      "9 X 5 = 45\n",
      "9 X 6 = 54\n",
      "9 X 7 = 63\n",
      "9 X 8 = 72\n",
      "9 X 9 = 81\n"
     ]
    }
   ],
   "source": [
    "# Q. 구구단\n",
    "for i in range(2, 10):\n",
    "    print(f'{i}단 : ')\n",
    "    for j in range(1, 10):\n",
    "        print(f'{i} X {j} = {i*j}')\n",
    "    if i == 9:\n",
    "        continue\n",
    "    print('-'*14)"
   ]
  },
  {
   "cell_type": "code",
   "execution_count": 32,
   "id": "5ff2e218",
   "metadata": {},
   "outputs": [
    {
     "name": "stdout",
     "output_type": "stream",
     "text": [
      "   *\n"
     ]
    }
   ],
   "source": [
    "print('   '+'*')"
   ]
  },
  {
   "cell_type": "code",
   "execution_count": 33,
   "id": "2c7874af",
   "metadata": {},
   "outputs": [
    {
     "name": "stdout",
     "output_type": "stream",
     "text": [
      "2 x 1 = 2\n",
      "2 x 2 = 4\n",
      "2 x 3 = 6\n",
      "2 x 4 = 8\n",
      "2 x 5 = 10\n",
      "2 x 6 = 12\n",
      "2 x 7 = 14\n",
      "2 x 8 = 16\n",
      "2 x 9 = 18\n"
     ]
    }
   ],
   "source": [
    "number = 0\n",
    "while (1<= number+1 <= 9): # one can just change the conditions\n",
    "    number = number +1\n",
    "    print(f\"2 x {number} = {2 * number}\")"
   ]
  },
  {
   "cell_type": "code",
   "execution_count": 34,
   "id": "46c86ab8",
   "metadata": {},
   "outputs": [
    {
     "name": "stdout",
     "output_type": "stream",
     "text": [
      "2 X 1 = 2\n",
      "2 X 2 = 4\n",
      "2 X 3 = 6\n",
      "2 X 4 = 8\n",
      "2 X 5 = 10\n",
      "2 X 6 = 12\n",
      "2 X 7 = 14\n",
      "2 X 8 = 16\n",
      "2 X 9 = 18\n"
     ]
    }
   ],
   "source": [
    "for i in range(1,10):\n",
    "    print(f'2 X {i} = {2 * i}')"
   ]
  },
  {
   "cell_type": "code",
   "execution_count": null,
   "id": "d502f015",
   "metadata": {},
   "outputs": [],
   "source": []
  }
 ],
 "metadata": {
  "kernelspec": {
   "display_name": "Python 3 (ipykernel)",
   "language": "python",
   "name": "python3"
  },
  "language_info": {
   "codemirror_mode": {
    "name": "ipython",
    "version": 3
   },
   "file_extension": ".py",
   "mimetype": "text/x-python",
   "name": "python",
   "nbconvert_exporter": "python",
   "pygments_lexer": "ipython3",
   "version": "3.10.9"
  }
 },
 "nbformat": 4,
 "nbformat_minor": 5
}
